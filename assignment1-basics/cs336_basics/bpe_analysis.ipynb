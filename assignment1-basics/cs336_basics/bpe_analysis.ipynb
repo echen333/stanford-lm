{
 "cells": [
  {
   "cell_type": "code",
   "execution_count": 2,
   "id": "a7359a33",
   "metadata": {},
   "outputs": [],
   "source": [
    "import torch\n",
    "import pickle as pkl"
   ]
  },
  {
   "cell_type": "code",
   "execution_count": 8,
   "id": "65bf1c79",
   "metadata": {},
   "outputs": [
    {
     "data": {
      "text/plain": [
       "[(b' ', b't'),\n",
       " (b'h', b'e'),\n",
       " (b' ', b'a'),\n",
       " (b' ', b's'),\n",
       " (b' ', b'w'),\n",
       " (b'n', b'd'),\n",
       " (b' t', b'he'),\n",
       " (b'e', b'd'),\n",
       " (b' ', b'b'),\n",
       " (b' t', b'o')]"
      ]
     },
     "execution_count": 8,
     "metadata": {},
     "output_type": "execute_result"
    }
   ],
   "source": [
    "path1 = \"../data/tiny_stories_10000_merges.pkl\"\n",
    "path2 = \"../data/tiny_stories_10000_vocab.json\"\n",
    "\n",
    "with open(path1, \"rb\") as f:\n",
    "    merges: list[bytes, bytes] = pkl.load(f)\n",
    "\n",
    "merges[:10]"
   ]
  },
  {
   "cell_type": "code",
   "execution_count": 13,
   "id": "e327b67b",
   "metadata": {},
   "outputs": [
    {
     "data": {
      "text/plain": [
       "[(0, b'<|endoftext|>'),\n",
       " (1, b'\\x00'),\n",
       " (2, b'\\x01'),\n",
       " (3, b'\\x02'),\n",
       " (4, b'\\x03'),\n",
       " (5, b'\\x04'),\n",
       " (6, b'\\x05'),\n",
       " (7, b'\\x06'),\n",
       " (8, b'\\x07'),\n",
       " (9, b'\\x08')]"
      ]
     },
     "execution_count": 13,
     "metadata": {},
     "output_type": "execute_result"
    }
   ],
   "source": [
    "from pathlib import Path\n",
    "import json\n",
    "import base64\n",
    "\n",
    "vocab_str = Path(path2).read_text()\n",
    "raw_tok2id = json.loads(vocab_str)\n",
    "vocab: dict[int, bytes] = {\n",
    "    int(idx): base64.b64decode(token.encode(\"ascii\")) for idx, token in raw_tok2id.items()\n",
    "}\n",
    "list(vocab.items())[:10]"
   ]
  },
  {
   "cell_type": "code",
   "execution_count": 18,
   "id": "c225429d",
   "metadata": {},
   "outputs": [
    {
     "data": {
      "text/plain": [
       "[(9379, b' responsibility'),\n",
       " (9143, b' disappointment'),\n",
       " (7160, b' accomplishment'),\n",
       " (9095, b' granddaughter'),\n",
       " (8868, b' extraordinary'),\n",
       " (8699, b' congratulated'),\n",
       " (8626, b' unfortunately'),\n",
       " (7756, b' encouragement'),\n",
       " (6874, b' determination'),\n",
       " (6497, b' Unfortunately')]"
      ]
     },
     "execution_count": 18,
     "metadata": {},
     "output_type": "execute_result"
    }
   ],
   "source": [
    "vocab.items()\n",
    "list(reversed(sorted(vocab.items(), key=lambda x: len(x[1]))))[:10]\n"
   ]
  },
  {
   "cell_type": "code",
   "execution_count": null,
   "id": "b25fcfb5",
   "metadata": {},
   "outputs": [],
   "source": []
  }
 ],
 "metadata": {
  "kernelspec": {
   "display_name": ".venv",
   "language": "python",
   "name": "python3"
  },
  "language_info": {
   "codemirror_mode": {
    "name": "ipython",
    "version": 3
   },
   "file_extension": ".py",
   "mimetype": "text/x-python",
   "name": "python",
   "nbconvert_exporter": "python",
   "pygments_lexer": "ipython3",
   "version": "3.13.5"
  }
 },
 "nbformat": 4,
 "nbformat_minor": 5
}
